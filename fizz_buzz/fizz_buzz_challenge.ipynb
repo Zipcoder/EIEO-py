{
  "cells": [
    {
      "cell_type": "markdown",
      "source": [
        "This notebook was prepared by [Donne Martin](https://github.com/donnemartin). Source and license info is on [GitHub](https://github.com/donnemartin/interactive-coding-challenges)."
      ],
      "metadata": {}
    },
    {
      "cell_type": "markdown",
      "source": [
        "# Challenge Notebook"
      ],
      "metadata": {}
    },
    {
      "cell_type": "markdown",
      "source": [
        "## Problem: Implement Fizz Buzz.\n",
        "\n",
        "* [Constraints](#Constraints)\n",
        "* [Test Cases](#Test-Cases)\n",
        "* [Algorithm](#Algorithm)\n",
        "* [Code](#Code)\n",
        "* [Unit Test](#Unit-Test)\n",
        "* [Solution Notebook](#Solution-Notebook)"
      ],
      "metadata": {}
    },
    {
      "cell_type": "markdown",
      "source": [
        "## Constraints\n",
        "\n",
        "* What is fizz buzz?\n",
        "    * Return the string representation of numbers from 1 to n\n",
        "        * Multiples of 3 -> 'Fizz'\n",
        "        * Multiples of 5 -> 'Buzz'\n",
        "        * Multiples of 3 and 5 -> 'FizzBuzz'\n",
        "* Can we assume the inputs are valid?\n",
        "    * No\n",
        "* Can we assume this fits memory?\n",
        "    * Yes"
      ],
      "metadata": {}
    },
    {
      "cell_type": "markdown",
      "source": [
        "## Test Cases\n",
        "\n",
        "<pre>\n",
        "* None -> Exception\n",
        "* < 1 -> Exception\n",
        "* 15 ->\n",
        "[\n",
        "    '1',\n",
        "    '2',\n",
        "    'Fizz',\n",
        "    '4',\n",
        "    'Buzz',\n",
        "    'Fizz',\n",
        "    '7',\n",
        "    '8',\n",
        "    'Fizz',\n",
        "    'Buzz',\n",
        "    '11',\n",
        "    'Fizz',\n",
        "    '13',\n",
        "    '14',\n",
        "    'FizzBuzz'\n",
        "]\n",
        "</pre>"
      ],
      "metadata": {}
    },
    {
      "cell_type": "markdown",
      "source": [
        "## Algorithm\n",
        "\n",
        "Refer to the [Solution Notebook](http://nbviewer.ipython.org/github/donnemartin/interactive-coding-challenges/blob/master/arrays_strings/fizz_buzz/fizz_buzz_solution.ipynb).  If you are stuck and need a hint, the solution notebook's algorithm discussion might be a good place to start."
      ],
      "metadata": {}
    },
    {
      "cell_type": "markdown",
      "source": [
        "## Code"
      ],
      "metadata": {}
    },
    {
      "cell_type": "code",
      "source": [
        "class Solution(object):\n",
        "\n",
        "    def fizz_buzz(self, num):\n",
        "        if num is None:\n",
        "            raise TypeError('num cannot be None')\n",
        "        if num < 1:\n",
        "            raise ValueError('num cannot be less than one')\n",
        "        results = []\n",
        "        for i in range(1, num + 1):\n",
        "            if i % 3 == 0 and i % 5 == 0:\n",
        "                results.append('FizzBuzz')\n",
        "            elif i % 3 == 0:\n",
        "                results.append('Fizz')\n",
        "            elif i % 5 == 0:\n",
        "                results.append('Buzz')\n",
        "            else:\n",
        "                results.append(str(i))\n",
        "        return results"
      ],
      "outputs": [],
      "execution_count": 6,
      "metadata": {
        "collapsed": false
      }
    },
    {
      "cell_type": "markdown",
      "source": [
        "## Unit Test"
      ],
      "metadata": {}
    },
    {
      "cell_type": "markdown",
      "source": [
        "**The following unit test is expected to fail until you solve the challenge.**"
      ],
      "metadata": {}
    },
    {
      "cell_type": "code",
      "source": [
        "# %load test_fizz_buzz.py\n",
        "from nose.tools import assert_equal, assert_raises\n",
        "\n",
        "\n",
        "class TestFizzBuzz(object):\n",
        "\n",
        "    def test_fizz_buzz(self):\n",
        "        solution = Solution()\n",
        "        assert_raises(TypeError, solution.fizz_buzz, None)\n",
        "        assert_raises(ValueError, solution.fizz_buzz, 0)\n",
        "        expected = [\n",
        "            '1',\n",
        "            '2',\n",
        "            'Fizz',\n",
        "            '4',\n",
        "            'Buzz',\n",
        "            'Fizz',\n",
        "            '7',\n",
        "            '8',\n",
        "            'Fizz',\n",
        "            'Buzz',\n",
        "            '11',\n",
        "            'Fizz',\n",
        "            '13',\n",
        "            '14',\n",
        "            'FizzBuzz'\n",
        "        ]\n",
        "        assert_equal(solution.fizz_buzz(15), expected)\n",
        "        print('Success: test_fizz_buzz')\n",
        "\n",
        "\n",
        "def main():\n",
        "    test = TestFizzBuzz()\n",
        "    test.test_fizz_buzz()\n",
        "\n",
        "\n",
        "if __name__ == '__main__':\n",
        "    main()"
      ],
      "outputs": [
        {
          "output_type": "stream",
          "name": "stdout",
          "text": [
            "Success: test_fizz_buzz\n"
          ]
        }
      ],
      "execution_count": 7,
      "metadata": {
        "collapsed": false
      }
    },
    {
      "cell_type": "markdown",
      "source": [
        "## Solution Notebook\n",
        "\n",
        "Review the [Solution Notebook](http://nbviewer.ipython.org/github/donnemartin/interactive-coding-challenges/blob/master/arrays_strings/fizz_buzz/fizz_buzz_solution.ipynb) for a discussion on algorithms and code solutions."
      ],
      "metadata": {}
    }
  ],
  "metadata": {
    "kernelspec": {
      "name": "python3",
      "language": "python",
      "display_name": "Python 3"
    },
    "language_info": {
      "name": "python",
      "version": "3.7.3",
      "mimetype": "text/x-python",
      "codemirror_mode": {
        "name": "ipython",
        "version": 3
      },
      "pygments_lexer": "ipython3",
      "nbconvert_exporter": "python",
      "file_extension": ".py"
    },
    "kernel_info": {
      "name": "python3"
    },
    "nteract": {
      "version": "0.15.0"
    }
  },
  "nbformat": 4,
  "nbformat_minor": 0
}